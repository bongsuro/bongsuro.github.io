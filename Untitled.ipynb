{
  "cells": [
    {
      "cell_type": "markdown",
      "metadata": {
        "id": "view-in-github",
        "colab_type": "text"
      },
      "source": [
        "<a href=\"https://colab.research.google.com/github/bongsuro/bongsuro.github.io/blob/master/Untitled.ipynb\" target=\"_parent\"><img src=\"https://colab.research.google.com/assets/colab-badge.svg\" alt=\"Open In Colab\"/></a>"
      ]
    },
    {
      "cell_type": "markdown",
      "id": "14109fca-be9f-4762-aa05-99deb0ac5e21",
      "metadata": {
        "id": "14109fca-be9f-4762-aa05-99deb0ac5e21"
      },
      "source": [
        ":deciduous_tree: # 의사결정나무를 사용한 붓꽃 데이터 분류"
      ]
    },
    {
      "cell_type": "markdown",
      "id": "6e2e2abe-5bf5-4955-864c-0bf6692b325b",
      "metadata": {
        "id": "6e2e2abe-5bf5-4955-864c-0bf6692b325b"
      },
      "source": [
        "의사결정나무(Decision Tree)를 이용하여 sklearn에서 제공하는 붓꽃 데이터를 분류해보도록 하겠습니다."
      ]
    },
    {
      "cell_type": "markdown",
      "id": "4bd462ec-0b92-43f6-98e8-f5c50e5dbe1e",
      "metadata": {
        "id": "4bd462ec-0b92-43f6-98e8-f5c50e5dbe1e"
      },
      "source": [
        "##1. 패키지 및 데이터 불러오기"
      ]
    },
    {
      "cell_type": "code",
      "execution_count": 1,
      "id": "2e845d1e-0350-4d98-ab92-94e262c0005e",
      "metadata": {
        "id": "2e845d1e-0350-4d98-ab92-94e262c0005e"
      },
      "outputs": [],
      "source": [
        "import numpy as np\n",
        "import pandas as pd\n",
        "import seaborn as sns\n",
        "from sklearn.datasets import load_iris\n",
        "from sklearn.tree import DecisionTreeClassifier\n",
        "from sklearn.model_selection import train_test_split\n",
        "from sklearn.tree import export_graphviz\n",
        "from sklearn.tree import plot_tree \n",
        "from IPython.display import Image"
      ]
    },
    {
      "cell_type": "code",
      "execution_count": 2,
      "id": "44be01e8-0467-4bd3-9665-897a136abc72",
      "metadata": {
        "colab": {
          "base_uri": "https://localhost:8080/"
        },
        "id": "44be01e8-0467-4bd3-9665-897a136abc72",
        "outputId": "5899feda-16c9-4cb6-c983-98c397a940e6"
      },
      "outputs": [
        {
          "output_type": "execute_result",
          "data": {
            "text/plain": [
              "['sepal length (cm)',\n",
              " 'sepal width (cm)',\n",
              " 'petal length (cm)',\n",
              " 'petal width (cm)']"
            ]
          },
          "metadata": {},
          "execution_count": 2
        }
      ],
      "source": [
        "# 데이터 담아주기\n",
        "iris = load_iris()\n",
        "iris.feature_names"
      ]
    },
    {
      "cell_type": "code",
      "execution_count": 3,
      "id": "22bbf1d1-c942-465b-a6bc-160b5aa95e28",
      "metadata": {
        "colab": {
          "base_uri": "https://localhost:8080/"
        },
        "id": "22bbf1d1-c942-465b-a6bc-160b5aa95e28",
        "outputId": "a3f76035-4a7d-4f11-b373-10ca69efbae9"
      },
      "outputs": [
        {
          "output_type": "execute_result",
          "data": {
            "text/plain": [
              "array([[5.1, 3.5, 1.4, 0.2],\n",
              "       [4.9, 3. , 1.4, 0.2],\n",
              "       [4.7, 3.2, 1.3, 0.2],\n",
              "       [4.6, 3.1, 1.5, 0.2],\n",
              "       [5. , 3.6, 1.4, 0.2],\n",
              "       [5.4, 3.9, 1.7, 0.4],\n",
              "       [4.6, 3.4, 1.4, 0.3],\n",
              "       [5. , 3.4, 1.5, 0.2],\n",
              "       [4.4, 2.9, 1.4, 0.2],\n",
              "       [4.9, 3.1, 1.5, 0.1],\n",
              "       [5.4, 3.7, 1.5, 0.2],\n",
              "       [4.8, 3.4, 1.6, 0.2],\n",
              "       [4.8, 3. , 1.4, 0.1],\n",
              "       [4.3, 3. , 1.1, 0.1],\n",
              "       [5.8, 4. , 1.2, 0.2],\n",
              "       [5.7, 4.4, 1.5, 0.4],\n",
              "       [5.4, 3.9, 1.3, 0.4],\n",
              "       [5.1, 3.5, 1.4, 0.3],\n",
              "       [5.7, 3.8, 1.7, 0.3],\n",
              "       [5.1, 3.8, 1.5, 0.3],\n",
              "       [5.4, 3.4, 1.7, 0.2],\n",
              "       [5.1, 3.7, 1.5, 0.4],\n",
              "       [4.6, 3.6, 1. , 0.2],\n",
              "       [5.1, 3.3, 1.7, 0.5],\n",
              "       [4.8, 3.4, 1.9, 0.2],\n",
              "       [5. , 3. , 1.6, 0.2],\n",
              "       [5. , 3.4, 1.6, 0.4],\n",
              "       [5.2, 3.5, 1.5, 0.2],\n",
              "       [5.2, 3.4, 1.4, 0.2],\n",
              "       [4.7, 3.2, 1.6, 0.2],\n",
              "       [4.8, 3.1, 1.6, 0.2],\n",
              "       [5.4, 3.4, 1.5, 0.4],\n",
              "       [5.2, 4.1, 1.5, 0.1],\n",
              "       [5.5, 4.2, 1.4, 0.2],\n",
              "       [4.9, 3.1, 1.5, 0.2],\n",
              "       [5. , 3.2, 1.2, 0.2],\n",
              "       [5.5, 3.5, 1.3, 0.2],\n",
              "       [4.9, 3.6, 1.4, 0.1],\n",
              "       [4.4, 3. , 1.3, 0.2],\n",
              "       [5.1, 3.4, 1.5, 0.2],\n",
              "       [5. , 3.5, 1.3, 0.3],\n",
              "       [4.5, 2.3, 1.3, 0.3],\n",
              "       [4.4, 3.2, 1.3, 0.2],\n",
              "       [5. , 3.5, 1.6, 0.6],\n",
              "       [5.1, 3.8, 1.9, 0.4],\n",
              "       [4.8, 3. , 1.4, 0.3],\n",
              "       [5.1, 3.8, 1.6, 0.2],\n",
              "       [4.6, 3.2, 1.4, 0.2],\n",
              "       [5.3, 3.7, 1.5, 0.2],\n",
              "       [5. , 3.3, 1.4, 0.2],\n",
              "       [7. , 3.2, 4.7, 1.4],\n",
              "       [6.4, 3.2, 4.5, 1.5],\n",
              "       [6.9, 3.1, 4.9, 1.5],\n",
              "       [5.5, 2.3, 4. , 1.3],\n",
              "       [6.5, 2.8, 4.6, 1.5],\n",
              "       [5.7, 2.8, 4.5, 1.3],\n",
              "       [6.3, 3.3, 4.7, 1.6],\n",
              "       [4.9, 2.4, 3.3, 1. ],\n",
              "       [6.6, 2.9, 4.6, 1.3],\n",
              "       [5.2, 2.7, 3.9, 1.4],\n",
              "       [5. , 2. , 3.5, 1. ],\n",
              "       [5.9, 3. , 4.2, 1.5],\n",
              "       [6. , 2.2, 4. , 1. ],\n",
              "       [6.1, 2.9, 4.7, 1.4],\n",
              "       [5.6, 2.9, 3.6, 1.3],\n",
              "       [6.7, 3.1, 4.4, 1.4],\n",
              "       [5.6, 3. , 4.5, 1.5],\n",
              "       [5.8, 2.7, 4.1, 1. ],\n",
              "       [6.2, 2.2, 4.5, 1.5],\n",
              "       [5.6, 2.5, 3.9, 1.1],\n",
              "       [5.9, 3.2, 4.8, 1.8],\n",
              "       [6.1, 2.8, 4. , 1.3],\n",
              "       [6.3, 2.5, 4.9, 1.5],\n",
              "       [6.1, 2.8, 4.7, 1.2],\n",
              "       [6.4, 2.9, 4.3, 1.3],\n",
              "       [6.6, 3. , 4.4, 1.4],\n",
              "       [6.8, 2.8, 4.8, 1.4],\n",
              "       [6.7, 3. , 5. , 1.7],\n",
              "       [6. , 2.9, 4.5, 1.5],\n",
              "       [5.7, 2.6, 3.5, 1. ],\n",
              "       [5.5, 2.4, 3.8, 1.1],\n",
              "       [5.5, 2.4, 3.7, 1. ],\n",
              "       [5.8, 2.7, 3.9, 1.2],\n",
              "       [6. , 2.7, 5.1, 1.6],\n",
              "       [5.4, 3. , 4.5, 1.5],\n",
              "       [6. , 3.4, 4.5, 1.6],\n",
              "       [6.7, 3.1, 4.7, 1.5],\n",
              "       [6.3, 2.3, 4.4, 1.3],\n",
              "       [5.6, 3. , 4.1, 1.3],\n",
              "       [5.5, 2.5, 4. , 1.3],\n",
              "       [5.5, 2.6, 4.4, 1.2],\n",
              "       [6.1, 3. , 4.6, 1.4],\n",
              "       [5.8, 2.6, 4. , 1.2],\n",
              "       [5. , 2.3, 3.3, 1. ],\n",
              "       [5.6, 2.7, 4.2, 1.3],\n",
              "       [5.7, 3. , 4.2, 1.2],\n",
              "       [5.7, 2.9, 4.2, 1.3],\n",
              "       [6.2, 2.9, 4.3, 1.3],\n",
              "       [5.1, 2.5, 3. , 1.1],\n",
              "       [5.7, 2.8, 4.1, 1.3],\n",
              "       [6.3, 3.3, 6. , 2.5],\n",
              "       [5.8, 2.7, 5.1, 1.9],\n",
              "       [7.1, 3. , 5.9, 2.1],\n",
              "       [6.3, 2.9, 5.6, 1.8],\n",
              "       [6.5, 3. , 5.8, 2.2],\n",
              "       [7.6, 3. , 6.6, 2.1],\n",
              "       [4.9, 2.5, 4.5, 1.7],\n",
              "       [7.3, 2.9, 6.3, 1.8],\n",
              "       [6.7, 2.5, 5.8, 1.8],\n",
              "       [7.2, 3.6, 6.1, 2.5],\n",
              "       [6.5, 3.2, 5.1, 2. ],\n",
              "       [6.4, 2.7, 5.3, 1.9],\n",
              "       [6.8, 3. , 5.5, 2.1],\n",
              "       [5.7, 2.5, 5. , 2. ],\n",
              "       [5.8, 2.8, 5.1, 2.4],\n",
              "       [6.4, 3.2, 5.3, 2.3],\n",
              "       [6.5, 3. , 5.5, 1.8],\n",
              "       [7.7, 3.8, 6.7, 2.2],\n",
              "       [7.7, 2.6, 6.9, 2.3],\n",
              "       [6. , 2.2, 5. , 1.5],\n",
              "       [6.9, 3.2, 5.7, 2.3],\n",
              "       [5.6, 2.8, 4.9, 2. ],\n",
              "       [7.7, 2.8, 6.7, 2. ],\n",
              "       [6.3, 2.7, 4.9, 1.8],\n",
              "       [6.7, 3.3, 5.7, 2.1],\n",
              "       [7.2, 3.2, 6. , 1.8],\n",
              "       [6.2, 2.8, 4.8, 1.8],\n",
              "       [6.1, 3. , 4.9, 1.8],\n",
              "       [6.4, 2.8, 5.6, 2.1],\n",
              "       [7.2, 3. , 5.8, 1.6],\n",
              "       [7.4, 2.8, 6.1, 1.9],\n",
              "       [7.9, 3.8, 6.4, 2. ],\n",
              "       [6.4, 2.8, 5.6, 2.2],\n",
              "       [6.3, 2.8, 5.1, 1.5],\n",
              "       [6.1, 2.6, 5.6, 1.4],\n",
              "       [7.7, 3. , 6.1, 2.3],\n",
              "       [6.3, 3.4, 5.6, 2.4],\n",
              "       [6.4, 3.1, 5.5, 1.8],\n",
              "       [6. , 3. , 4.8, 1.8],\n",
              "       [6.9, 3.1, 5.4, 2.1],\n",
              "       [6.7, 3.1, 5.6, 2.4],\n",
              "       [6.9, 3.1, 5.1, 2.3],\n",
              "       [5.8, 2.7, 5.1, 1.9],\n",
              "       [6.8, 3.2, 5.9, 2.3],\n",
              "       [6.7, 3.3, 5.7, 2.5],\n",
              "       [6.7, 3. , 5.2, 2.3],\n",
              "       [6.3, 2.5, 5. , 1.9],\n",
              "       [6.5, 3. , 5.2, 2. ],\n",
              "       [6.2, 3.4, 5.4, 2.3],\n",
              "       [5.9, 3. , 5.1, 1.8]])"
            ]
          },
          "metadata": {},
          "execution_count": 3
        }
      ],
      "source": [
        "#데이터 확인하기\n",
        "iris.data"
      ]
    },
    {
      "cell_type": "markdown",
      "id": "9a29462d-b361-40cf-a575-748b24dc75c4",
      "metadata": {
        "id": "9a29462d-b361-40cf-a575-748b24dc75c4"
      },
      "source": [
        "이후 keys() 함수로 key값들을 확인해봅니다."
      ]
    },
    {
      "cell_type": "code",
      "execution_count": 4,
      "id": "1a63a3c1-dfeb-4e25-8ee2-b9d47032d178",
      "metadata": {
        "colab": {
          "base_uri": "https://localhost:8080/"
        },
        "id": "1a63a3c1-dfeb-4e25-8ee2-b9d47032d178",
        "outputId": "0a8b5f80-5ac4-4b67-8583-88f62b59289a"
      },
      "outputs": [
        {
          "output_type": "execute_result",
          "data": {
            "text/plain": [
              "dict_keys(['data', 'target', 'frame', 'target_names', 'DESCR', 'feature_names', 'filename', 'data_module'])"
            ]
          },
          "metadata": {},
          "execution_count": 4
        }
      ],
      "source": [
        "iris.keys()"
      ]
    },
    {
      "cell_type": "markdown",
      "id": "01161a52-2dbe-4e1d-969f-be71881fdf74",
      "metadata": {
        "id": "01161a52-2dbe-4e1d-969f-be71881fdf74"
      },
      "source": [
        "이 중에 target이 뭔지 한번 확인해봅시당. 아마 품종 이름일겁니다."
      ]
    },
    {
      "cell_type": "code",
      "execution_count": 5,
      "id": "c5e02857-f651-4ffd-99d2-81b5bb3a63bf",
      "metadata": {
        "colab": {
          "base_uri": "https://localhost:8080/"
        },
        "id": "c5e02857-f651-4ffd-99d2-81b5bb3a63bf",
        "outputId": "c88d3077-72f8-4122-a46e-3ebb520183f9"
      },
      "outputs": [
        {
          "output_type": "execute_result",
          "data": {
            "text/plain": [
              "array(['setosa', 'versicolor', 'virginica'], dtype='<U10')"
            ]
          },
          "metadata": {},
          "execution_count": 5
        }
      ],
      "source": [
        "iris.target_names"
      ]
    },
    {
      "cell_type": "markdown",
      "id": "1ee31771-7ae9-4099-9e63-ce770b89be46",
      "metadata": {
        "id": "1ee31771-7ae9-4099-9e63-ce770b89be46"
      },
      "source": [
        "iris.target은 그럼 품종을 0,1,2로 라벨링되어있는 값입니다."
      ]
    },
    {
      "cell_type": "code",
      "execution_count": 6,
      "id": "e5f09b08-cfda-4dca-864f-01b155449cb3",
      "metadata": {
        "colab": {
          "base_uri": "https://localhost:8080/"
        },
        "id": "e5f09b08-cfda-4dca-864f-01b155449cb3",
        "outputId": "f043d5a4-20c9-49b1-c483-69857075dbb5"
      },
      "outputs": [
        {
          "output_type": "execute_result",
          "data": {
            "text/plain": [
              "array([0, 0, 0, 0, 0, 0, 0, 0, 0, 0, 0, 0, 0, 0, 0, 0, 0, 0, 0, 0, 0, 0,\n",
              "       0, 0, 0, 0, 0, 0, 0, 0, 0, 0, 0, 0, 0, 0, 0, 0, 0, 0, 0, 0, 0, 0,\n",
              "       0, 0, 0, 0, 0, 0, 1, 1, 1, 1, 1, 1, 1, 1, 1, 1, 1, 1, 1, 1, 1, 1,\n",
              "       1, 1, 1, 1, 1, 1, 1, 1, 1, 1, 1, 1, 1, 1, 1, 1, 1, 1, 1, 1, 1, 1,\n",
              "       1, 1, 1, 1, 1, 1, 1, 1, 1, 1, 1, 1, 2, 2, 2, 2, 2, 2, 2, 2, 2, 2,\n",
              "       2, 2, 2, 2, 2, 2, 2, 2, 2, 2, 2, 2, 2, 2, 2, 2, 2, 2, 2, 2, 2, 2,\n",
              "       2, 2, 2, 2, 2, 2, 2, 2, 2, 2, 2, 2, 2, 2, 2, 2, 2, 2])"
            ]
          },
          "metadata": {},
          "execution_count": 6
        }
      ],
      "source": [
        "iris.target"
      ]
    },
    {
      "cell_type": "markdown",
      "id": "8bcb716c-bcbb-46bd-8d80-d0c08a243aec",
      "metadata": {
        "id": "8bcb716c-bcbb-46bd-8d80-d0c08a243aec"
      },
      "source": [
        "iris 데이터를 데이터프레임에 이쁘게 담아봅시당. 이때 pandas를 활용합니다."
      ]
    },
    {
      "cell_type": "code",
      "execution_count": 7,
      "id": "b6472456-6fe5-4530-bbc2-617c6272fc2c",
      "metadata": {
        "colab": {
          "base_uri": "https://localhost:8080/",
          "height": 206
        },
        "id": "b6472456-6fe5-4530-bbc2-617c6272fc2c",
        "outputId": "8a120925-11ca-4bba-a250-452ed5423a89"
      },
      "outputs": [
        {
          "output_type": "execute_result",
          "data": {
            "text/plain": [
              "   sepal length (cm)  sepal width (cm)  petal length (cm)  petal width (cm)  \\\n",
              "0                5.1               3.5                1.4               0.2   \n",
              "1                4.9               3.0                1.4               0.2   \n",
              "2                4.7               3.2                1.3               0.2   \n",
              "3                4.6               3.1                1.5               0.2   \n",
              "4                5.0               3.6                1.4               0.2   \n",
              "\n",
              "   label  \n",
              "0      0  \n",
              "1      0  \n",
              "2      0  \n",
              "3      0  \n",
              "4      0  "
            ],
            "text/html": [
              "\n",
              "  <div id=\"df-4523235d-4558-41df-9d9f-f191602ee705\">\n",
              "    <div class=\"colab-df-container\">\n",
              "      <div>\n",
              "<style scoped>\n",
              "    .dataframe tbody tr th:only-of-type {\n",
              "        vertical-align: middle;\n",
              "    }\n",
              "\n",
              "    .dataframe tbody tr th {\n",
              "        vertical-align: top;\n",
              "    }\n",
              "\n",
              "    .dataframe thead th {\n",
              "        text-align: right;\n",
              "    }\n",
              "</style>\n",
              "<table border=\"1\" class=\"dataframe\">\n",
              "  <thead>\n",
              "    <tr style=\"text-align: right;\">\n",
              "      <th></th>\n",
              "      <th>sepal length (cm)</th>\n",
              "      <th>sepal width (cm)</th>\n",
              "      <th>petal length (cm)</th>\n",
              "      <th>petal width (cm)</th>\n",
              "      <th>label</th>\n",
              "    </tr>\n",
              "  </thead>\n",
              "  <tbody>\n",
              "    <tr>\n",
              "      <th>0</th>\n",
              "      <td>5.1</td>\n",
              "      <td>3.5</td>\n",
              "      <td>1.4</td>\n",
              "      <td>0.2</td>\n",
              "      <td>0</td>\n",
              "    </tr>\n",
              "    <tr>\n",
              "      <th>1</th>\n",
              "      <td>4.9</td>\n",
              "      <td>3.0</td>\n",
              "      <td>1.4</td>\n",
              "      <td>0.2</td>\n",
              "      <td>0</td>\n",
              "    </tr>\n",
              "    <tr>\n",
              "      <th>2</th>\n",
              "      <td>4.7</td>\n",
              "      <td>3.2</td>\n",
              "      <td>1.3</td>\n",
              "      <td>0.2</td>\n",
              "      <td>0</td>\n",
              "    </tr>\n",
              "    <tr>\n",
              "      <th>3</th>\n",
              "      <td>4.6</td>\n",
              "      <td>3.1</td>\n",
              "      <td>1.5</td>\n",
              "      <td>0.2</td>\n",
              "      <td>0</td>\n",
              "    </tr>\n",
              "    <tr>\n",
              "      <th>4</th>\n",
              "      <td>5.0</td>\n",
              "      <td>3.6</td>\n",
              "      <td>1.4</td>\n",
              "      <td>0.2</td>\n",
              "      <td>0</td>\n",
              "    </tr>\n",
              "  </tbody>\n",
              "</table>\n",
              "</div>\n",
              "      <button class=\"colab-df-convert\" onclick=\"convertToInteractive('df-4523235d-4558-41df-9d9f-f191602ee705')\"\n",
              "              title=\"Convert this dataframe to an interactive table.\"\n",
              "              style=\"display:none;\">\n",
              "        \n",
              "  <svg xmlns=\"http://www.w3.org/2000/svg\" height=\"24px\"viewBox=\"0 0 24 24\"\n",
              "       width=\"24px\">\n",
              "    <path d=\"M0 0h24v24H0V0z\" fill=\"none\"/>\n",
              "    <path d=\"M18.56 5.44l.94 2.06.94-2.06 2.06-.94-2.06-.94-.94-2.06-.94 2.06-2.06.94zm-11 1L8.5 8.5l.94-2.06 2.06-.94-2.06-.94L8.5 2.5l-.94 2.06-2.06.94zm10 10l.94 2.06.94-2.06 2.06-.94-2.06-.94-.94-2.06-.94 2.06-2.06.94z\"/><path d=\"M17.41 7.96l-1.37-1.37c-.4-.4-.92-.59-1.43-.59-.52 0-1.04.2-1.43.59L10.3 9.45l-7.72 7.72c-.78.78-.78 2.05 0 2.83L4 21.41c.39.39.9.59 1.41.59.51 0 1.02-.2 1.41-.59l7.78-7.78 2.81-2.81c.8-.78.8-2.07 0-2.86zM5.41 20L4 18.59l7.72-7.72 1.47 1.35L5.41 20z\"/>\n",
              "  </svg>\n",
              "      </button>\n",
              "      \n",
              "  <style>\n",
              "    .colab-df-container {\n",
              "      display:flex;\n",
              "      flex-wrap:wrap;\n",
              "      gap: 12px;\n",
              "    }\n",
              "\n",
              "    .colab-df-convert {\n",
              "      background-color: #E8F0FE;\n",
              "      border: none;\n",
              "      border-radius: 50%;\n",
              "      cursor: pointer;\n",
              "      display: none;\n",
              "      fill: #1967D2;\n",
              "      height: 32px;\n",
              "      padding: 0 0 0 0;\n",
              "      width: 32px;\n",
              "    }\n",
              "\n",
              "    .colab-df-convert:hover {\n",
              "      background-color: #E2EBFA;\n",
              "      box-shadow: 0px 1px 2px rgba(60, 64, 67, 0.3), 0px 1px 3px 1px rgba(60, 64, 67, 0.15);\n",
              "      fill: #174EA6;\n",
              "    }\n",
              "\n",
              "    [theme=dark] .colab-df-convert {\n",
              "      background-color: #3B4455;\n",
              "      fill: #D2E3FC;\n",
              "    }\n",
              "\n",
              "    [theme=dark] .colab-df-convert:hover {\n",
              "      background-color: #434B5C;\n",
              "      box-shadow: 0px 1px 3px 1px rgba(0, 0, 0, 0.15);\n",
              "      filter: drop-shadow(0px 1px 2px rgba(0, 0, 0, 0.3));\n",
              "      fill: #FFFFFF;\n",
              "    }\n",
              "  </style>\n",
              "\n",
              "      <script>\n",
              "        const buttonEl =\n",
              "          document.querySelector('#df-4523235d-4558-41df-9d9f-f191602ee705 button.colab-df-convert');\n",
              "        buttonEl.style.display =\n",
              "          google.colab.kernel.accessAllowed ? 'block' : 'none';\n",
              "\n",
              "        async function convertToInteractive(key) {\n",
              "          const element = document.querySelector('#df-4523235d-4558-41df-9d9f-f191602ee705');\n",
              "          const dataTable =\n",
              "            await google.colab.kernel.invokeFunction('convertToInteractive',\n",
              "                                                     [key], {});\n",
              "          if (!dataTable) return;\n",
              "\n",
              "          const docLinkHtml = 'Like what you see? Visit the ' +\n",
              "            '<a target=\"_blank\" href=https://colab.research.google.com/notebooks/data_table.ipynb>data table notebook</a>'\n",
              "            + ' to learn more about interactive tables.';\n",
              "          element.innerHTML = '';\n",
              "          dataTable['output_type'] = 'display_data';\n",
              "          await google.colab.output.renderOutput(dataTable, element);\n",
              "          const docLink = document.createElement('div');\n",
              "          docLink.innerHTML = docLinkHtml;\n",
              "          element.appendChild(docLink);\n",
              "        }\n",
              "      </script>\n",
              "    </div>\n",
              "  </div>\n",
              "  "
            ]
          },
          "metadata": {},
          "execution_count": 7
        }
      ],
      "source": [
        "iris_df = pd.DataFrame(data = iris.data, columns = iris.feature_names)\n",
        "iris_df['label'] = iris.target #라벨링은 우리는 품종으로 해줍시다\n",
        "iris_df.head()"
      ]
    },
    {
      "cell_type": "markdown",
      "id": "c07e4fde-045d-483c-9f1b-96eca4159a1e",
      "metadata": {
        "id": "c07e4fde-045d-483c-9f1b-96eca4159a1e"
      },
      "source": [
        "이쁘게 데이터프레임을 만들었으니 혹시나 하는 결측치가 있나 알아봅시다."
      ]
    },
    {
      "cell_type": "code",
      "execution_count": 8,
      "id": "75b5bef0-1d76-4515-8524-526f81bdf49a",
      "metadata": {
        "colab": {
          "base_uri": "https://localhost:8080/"
        },
        "id": "75b5bef0-1d76-4515-8524-526f81bdf49a",
        "outputId": "404b76dd-8d9f-464e-8c93-5aadd6afd61b"
      },
      "outputs": [
        {
          "output_type": "execute_result",
          "data": {
            "text/plain": [
              "sepal length (cm)    0\n",
              "sepal width (cm)     0\n",
              "petal length (cm)    0\n",
              "petal width (cm)     0\n",
              "label                0\n",
              "dtype: int64"
            ]
          },
          "metadata": {},
          "execution_count": 8
        }
      ],
      "source": [
        "iris_df.isnull().sum()"
      ]
    },
    {
      "cell_type": "markdown",
      "id": "5d48a6e0-5581-48f2-97d3-953f1adecc03",
      "metadata": {
        "id": "5d48a6e0-5581-48f2-97d3-953f1adecc03"
      },
      "source": [
        "없으니 품종의 카테고리도 혹시나 하는 마음에 확인해봅시당"
      ]
    },
    {
      "cell_type": "code",
      "execution_count": 9,
      "id": "984d61ef-f92d-4a36-a710-a7f2cf269d72",
      "metadata": {
        "colab": {
          "base_uri": "https://localhost:8080/"
        },
        "id": "984d61ef-f92d-4a36-a710-a7f2cf269d72",
        "outputId": "7e537aab-d6b9-4875-b472-82c6127cd80c"
      },
      "outputs": [
        {
          "output_type": "execute_result",
          "data": {
            "text/plain": [
              "array([0, 1, 2])"
            ]
          },
          "metadata": {},
          "execution_count": 9
        }
      ],
      "source": [
        "iris_df.label.unique()"
      ]
    },
    {
      "cell_type": "markdown",
      "id": "95213ae4-c632-48de-9650-a246136600e8",
      "metadata": {
        "id": "95213ae4-c632-48de-9650-a246136600e8"
      },
      "source": [
        "## 2. EDA"
      ]
    },
    {
      "cell_type": "markdown",
      "id": "fbf1212e-7e51-43f6-b8f2-57cfcfe8abd4",
      "metadata": {
        "id": "fbf1212e-7e51-43f6-b8f2-57cfcfe8abd4"
      },
      "source": [
        "irir 데이터는 0,1,2의 숫자로 라벨링이 되어 있는 범주형 데이터인 것을 확인할 수 있네용. 그럼 먼저 분석을 하기 전에 EDA를 진행하죠? seaborn의 시각화를 통해 데이터 분포가 어떤지 한번 보겠습니다."
      ]
    },
    {
      "cell_type": "code",
      "execution_count": 10,
      "id": "c6746f5e-779d-4d24-8640-83733ea7febf",
      "metadata": {
        "colab": {
          "base_uri": "https://localhost:8080/",
          "height": 744
        },
        "id": "c6746f5e-779d-4d24-8640-83733ea7febf",
        "outputId": "556321c8-0fc2-422f-e88c-3bd581cfff27"
      },
      "outputs": [
        {
          "output_type": "execute_result",
          "data": {
            "text/plain": [
              "<seaborn.axisgrid.PairGrid at 0x7f6bc0bdcf10>"
            ]
          },
          "metadata": {},
          "execution_count": 10
        },
        {
          "output_type": "display_data",
          "data": {
            "text/plain": [
              "<Figure size 762.375x720 with 20 Axes>"
            ],
            "image/png": "[encoded data removed]"
          },
          "metadata": {
            "needs_background": "light"
          }
        }
      ],
      "source": [
        "palette1 = sns.color_palette('coolwarm', 10)\n",
        "sns.pairplot(iris_df, hue='label', palette='husl')"
      ]
    },
    {
      "cell_type": "markdown",
      "id": "3a9cc6cd-0bb6-465d-898d-f2ab70b95d3a",
      "metadata": {
        "id": "3a9cc6cd-0bb6-465d-898d-f2ab70b95d3a"
      },
      "source": [
        "## 3. 데이터 전처리"
      ]
    },
    {
      "cell_type": "markdown",
      "id": "800d3009-cab8-4774-bea3-82113febc20f",
      "metadata": {
        "id": "800d3009-cab8-4774-bea3-82113febc20f"
      },
      "source": [
        "앞에서 전처리 과정 중 결측치를 확인해보았으니 이번에는 중복값을 확인해보겠습니다."
      ]
    },
    {
      "cell_type": "code",
      "execution_count": 11,
      "id": "7bc6bd70-bc19-48c8-a288-b1567c62f36b",
      "metadata": {
        "colab": {
          "base_uri": "https://localhost:8080/"
        },
        "id": "7bc6bd70-bc19-48c8-a288-b1567c62f36b",
        "outputId": "359f481f-e8f9-4165-9a48-6f01a14e392b"
      },
      "outputs": [
        {
          "output_type": "execute_result",
          "data": {
            "text/plain": [
              "1"
            ]
          },
          "metadata": {},
          "execution_count": 11
        }
      ],
      "source": [
        "iris_df.duplicated().sum()"
      ]
    },
    {
      "cell_type": "markdown",
      "id": "de633351-4ff4-4cc6-a738-a3a1cc294a70",
      "metadata": {
        "id": "de633351-4ff4-4cc6-a738-a3a1cc294a70"
      },
      "source": [
        "하나가 있네요. 중복값이 중복이 되는 것이 문제이지 값 자체가 문제가 있는 것은 아니니 하나만 제거하겠습니다."
      ]
    },
    {
      "cell_type": "code",
      "execution_count": 12,
      "id": "153f23f7-f250-46fd-8f70-ec1fe25a70a4",
      "metadata": {
        "colab": {
          "base_uri": "https://localhost:8080/",
          "height": 424
        },
        "id": "153f23f7-f250-46fd-8f70-ec1fe25a70a4",
        "outputId": "e418110f-d67e-4880-c9e9-5d47b2c1cd01"
      },
      "outputs": [
        {
          "output_type": "execute_result",
          "data": {
            "text/plain": [
              "     sepal length (cm)  sepal width (cm)  petal length (cm)  petal width (cm)  \\\n",
              "0                  5.1               3.5                1.4               0.2   \n",
              "1                  4.9               3.0                1.4               0.2   \n",
              "2                  4.7               3.2                1.3               0.2   \n",
              "3                  4.6               3.1                1.5               0.2   \n",
              "4                  5.0               3.6                1.4               0.2   \n",
              "..                 ...               ...                ...               ...   \n",
              "145                6.7               3.0                5.2               2.3   \n",
              "146                6.3               2.5                5.0               1.9   \n",
              "147                6.5               3.0                5.2               2.0   \n",
              "148                6.2               3.4                5.4               2.3   \n",
              "149                5.9               3.0                5.1               1.8   \n",
              "\n",
              "     label  \n",
              "0        0  \n",
              "1        0  \n",
              "2        0  \n",
              "3        0  \n",
              "4        0  \n",
              "..     ...  \n",
              "145      2  \n",
              "146      2  \n",
              "147      2  \n",
              "148      2  \n",
              "149      2  \n",
              "\n",
              "[149 rows x 5 columns]"
            ],
            "text/html": [
              "\n",
              "  <div id=\"df-5d3c2ebb-87a9-4cbb-88e9-8bba4496fd6d\">\n",
              "    <div class=\"colab-df-container\">\n",
              "      <div>\n",
              "<style scoped>\n",
              "    .dataframe tbody tr th:only-of-type {\n",
              "        vertical-align: middle;\n",
              "    }\n",
              "\n",
              "    .dataframe tbody tr th {\n",
              "        vertical-align: top;\n",
              "    }\n",
              "\n",
              "    .dataframe thead th {\n",
              "        text-align: right;\n",
              "    }\n",
              "</style>\n",
              "<table border=\"1\" class=\"dataframe\">\n",
              "  <thead>\n",
              "    <tr style=\"text-align: right;\">\n",
              "      <th></th>\n",
              "      <th>sepal length (cm)</th>\n",
              "      <th>sepal width (cm)</th>\n",
              "      <th>petal length (cm)</th>\n",
              "      <th>petal width (cm)</th>\n",
              "      <th>label</th>\n",
              "    </tr>\n",
              "  </thead>\n",
              "  <tbody>\n",
              "    <tr>\n",
              "      <th>0</th>\n",
              "      <td>5.1</td>\n",
              "      <td>3.5</td>\n",
              "      <td>1.4</td>\n",
              "      <td>0.2</td>\n",
              "      <td>0</td>\n",
              "    </tr>\n",
              "    <tr>\n",
              "      <th>1</th>\n",
              "      <td>4.9</td>\n",
              "      <td>3.0</td>\n",
              "      <td>1.4</td>\n",
              "      <td>0.2</td>\n",
              "      <td>0</td>\n",
              "    </tr>\n",
              "    <tr>\n",
              "      <th>2</th>\n",
              "      <td>4.7</td>\n",
              "      <td>3.2</td>\n",
              "      <td>1.3</td>\n",
              "      <td>0.2</td>\n",
              "      <td>0</td>\n",
              "    </tr>\n",
              "    <tr>\n",
              "      <th>3</th>\n",
              "      <td>4.6</td>\n",
              "      <td>3.1</td>\n",
              "      <td>1.5</td>\n",
              "      <td>0.2</td>\n",
              "      <td>0</td>\n",
              "    </tr>\n",
              "    <tr>\n",
              "      <th>4</th>\n",
              "      <td>5.0</td>\n",
              "      <td>3.6</td>\n",
              "      <td>1.4</td>\n",
              "      <td>0.2</td>\n",
              "      <td>0</td>\n",
              "    </tr>\n",
              "    <tr>\n",
              "      <th>...</th>\n",
              "      <td>...</td>\n",
              "      <td>...</td>\n",
              "      <td>...</td>\n",
              "      <td>...</td>\n",
              "      <td>...</td>\n",
              "    </tr>\n",
              "    <tr>\n",
              "      <th>145</th>\n",
              "      <td>6.7</td>\n",
              "      <td>3.0</td>\n",
              "      <td>5.2</td>\n",
              "      <td>2.3</td>\n",
              "      <td>2</td>\n",
              "    </tr>\n",
              "    <tr>\n",
              "      <th>146</th>\n",
              "      <td>6.3</td>\n",
              "      <td>2.5</td>\n",
              "      <td>5.0</td>\n",
              "      <td>1.9</td>\n",
              "      <td>2</td>\n",
              "    </tr>\n",
              "    <tr>\n",
              "      <th>147</th>\n",
              "      <td>6.5</td>\n",
              "      <td>3.0</td>\n",
              "      <td>5.2</td>\n",
              "      <td>2.0</td>\n",
              "      <td>2</td>\n",
              "    </tr>\n",
              "    <tr>\n",
              "      <th>148</th>\n",
              "      <td>6.2</td>\n",
              "      <td>3.4</td>\n",
              "      <td>5.4</td>\n",
              "      <td>2.3</td>\n",
              "      <td>2</td>\n",
              "    </tr>\n",
              "    <tr>\n",
              "      <th>149</th>\n",
              "      <td>5.9</td>\n",
              "      <td>3.0</td>\n",
              "      <td>5.1</td>\n",
              "      <td>1.8</td>\n",
              "      <td>2</td>\n",
              "    </tr>\n",
              "  </tbody>\n",
              "</table>\n",
              "<p>149 rows × 5 columns</p>\n",
              "</div>\n",
              "      <button class=\"colab-df-convert\" onclick=\"convertToInteractive('df-5d3c2ebb-87a9-4cbb-88e9-8bba4496fd6d')\"\n",
              "              title=\"Convert this dataframe to an interactive table.\"\n",
              "              style=\"display:none;\">\n",
              "        \n",
              "  <svg xmlns=\"http://www.w3.org/2000/svg\" height=\"24px\"viewBox=\"0 0 24 24\"\n",
              "       width=\"24px\">\n",
              "    <path d=\"M0 0h24v24H0V0z\" fill=\"none\"/>\n",
              "    <path d=\"M18.56 5.44l.94 2.06.94-2.06 2.06-.94-2.06-.94-.94-2.06-.94 2.06-2.06.94zm-11 1L8.5 8.5l.94-2.06 2.06-.94-2.06-.94L8.5 2.5l-.94 2.06-2.06.94zm10 10l.94 2.06.94-2.06 2.06-.94-2.06-.94-.94-2.06-.94 2.06-2.06.94z\"/><path d=\"M17.41 7.96l-1.37-1.37c-.4-.4-.92-.59-1.43-.59-.52 0-1.04.2-1.43.59L10.3 9.45l-7.72 7.72c-.78.78-.78 2.05 0 2.83L4 21.41c.39.39.9.59 1.41.59.51 0 1.02-.2 1.41-.59l7.78-7.78 2.81-2.81c.8-.78.8-2.07 0-2.86zM5.41 20L4 18.59l7.72-7.72 1.47 1.35L5.41 20z\"/>\n",
              "  </svg>\n",
              "      </button>\n",
              "      \n",
              "  <style>\n",
              "    .colab-df-container {\n",
              "      display:flex;\n",
              "      flex-wrap:wrap;\n",
              "      gap: 12px;\n",
              "    }\n",
              "\n",
              "    .colab-df-convert {\n",
              "      background-color: #E8F0FE;\n",
              "      border: none;\n",
              "      border-radius: 50%;\n",
              "      cursor: pointer;\n",
              "      display: none;\n",
              "      fill: #1967D2;\n",
              "      height: 32px;\n",
              "      padding: 0 0 0 0;\n",
              "      width: 32px;\n",
              "    }\n",
              "\n",
              "    .colab-df-convert:hover {\n",
              "      background-color: #E2EBFA;\n",
              "      box-shadow: 0px 1px 2px rgba(60, 64, 67, 0.3), 0px 1px 3px 1px rgba(60, 64, 67, 0.15);\n",
              "      fill: #174EA6;\n",
              "    }\n",
              "\n",
              "    [theme=dark] .colab-df-convert {\n",
              "      background-color: #3B4455;\n",
              "      fill: #D2E3FC;\n",
              "    }\n",
              "\n",
              "    [theme=dark] .colab-df-convert:hover {\n",
              "      background-color: #434B5C;\n",
              "      box-shadow: 0px 1px 3px 1px rgba(0, 0, 0, 0.15);\n",
              "      filter: drop-shadow(0px 1px 2px rgba(0, 0, 0, 0.3));\n",
              "      fill: #FFFFFF;\n",
              "    }\n",
              "  </style>\n",
              "\n",
              "      <script>\n",
              "        const buttonEl =\n",
              "          document.querySelector('#df-5d3c2ebb-87a9-4cbb-88e9-8bba4496fd6d button.colab-df-convert');\n",
              "        buttonEl.style.display =\n",
              "          google.colab.kernel.accessAllowed ? 'block' : 'none';\n",
              "\n",
              "        async function convertToInteractive(key) {\n",
              "          const element = document.querySelector('#df-5d3c2ebb-87a9-4cbb-88e9-8bba4496fd6d');\n",
              "          const dataTable =\n",
              "            await google.colab.kernel.invokeFunction('convertToInteractive',\n",
              "                                                     [key], {});\n",
              "          if (!dataTable) return;\n",
              "\n",
              "          const docLinkHtml = 'Like what you see? Visit the ' +\n",
              "            '<a target=\"_blank\" href=https://colab.research.google.com/notebooks/data_table.ipynb>data table notebook</a>'\n",
              "            + ' to learn more about interactive tables.';\n",
              "          element.innerHTML = '';\n",
              "          dataTable['output_type'] = 'display_data';\n",
              "          await google.colab.output.renderOutput(dataTable, element);\n",
              "          const docLink = document.createElement('div');\n",
              "          docLink.innerHTML = docLinkHtml;\n",
              "          element.appendChild(docLink);\n",
              "        }\n",
              "      </script>\n",
              "    </div>\n",
              "  </div>\n",
              "  "
            ]
          },
          "metadata": {},
          "execution_count": 12
        }
      ],
      "source": [
        "iris_df.drop_duplicates(keep = 'first', inplace = True) #drop_duplicates()를 사용하여 제거\n",
        "# keep를 통해 첫번째 결과를 남겨놓음 # inplace를 True로 설정하여 바로 반영\n",
        "iris_df"
      ]
    },
    {
      "cell_type": "markdown",
      "id": "7cd6bee6-61c3-4b05-b5f0-5d5d30cbfb8a",
      "metadata": {
        "id": "7cd6bee6-61c3-4b05-b5f0-5d5d30cbfb8a"
      },
      "source": [
        "하나가 제거되고 149개 된 것을 확인할 수 있습니다. 다음으로는 train data와 test data의 분할 그리고 x, y값을 분할해보도록 하겠습니다."
      ]
    },
    {
      "cell_type": "markdown",
      "id": "4f8b85a2-2cc0-4007-8bb3-56fe1712f028",
      "metadata": {
        "id": "4f8b85a2-2cc0-4007-8bb3-56fe1712f028"
      },
      "source": [
        "## 4. 데이터 분할"
      ]
    },
    {
      "cell_type": "markdown",
      "id": "6fc1e410-44e8-41af-b339-75d7fc21e266",
      "metadata": {
        "id": "6fc1e410-44e8-41af-b339-75d7fc21e266"
      },
      "source": [
        "먼저 y 값이 될 label 부분만 별도의 데이터프레임으로 빼겠습니다."
      ]
    },
    {
      "cell_type": "code",
      "execution_count": 13,
      "id": "5ecfcd24-4f89-440f-861d-74e1fa28a3b4",
      "metadata": {
        "colab": {
          "base_uri": "https://localhost:8080/",
          "height": 424
        },
        "id": "5ecfcd24-4f89-440f-861d-74e1fa28a3b4",
        "outputId": "c11f637b-8824-4600-d431-63642a2a18ba"
      },
      "outputs": [
        {
          "output_type": "execute_result",
          "data": {
            "text/plain": [
              "     label\n",
              "0        0\n",
              "1        0\n",
              "2        0\n",
              "3        0\n",
              "4        0\n",
              "..     ...\n",
              "145      2\n",
              "146      2\n",
              "147      2\n",
              "148      2\n",
              "149      2\n",
              "\n",
              "[149 rows x 1 columns]"
            ],
            "text/html": [
              "\n",
              "  <div id=\"df-7eec3b76-fc3b-41f5-a96b-ebf7043c4e0d\">\n",
              "    <div class=\"colab-df-container\">\n",
              "      <div>\n",
              "<style scoped>\n",
              "    .dataframe tbody tr th:only-of-type {\n",
              "        vertical-align: middle;\n",
              "    }\n",
              "\n",
              "    .dataframe tbody tr th {\n",
              "        vertical-align: top;\n",
              "    }\n",
              "\n",
              "    .dataframe thead th {\n",
              "        text-align: right;\n",
              "    }\n",
              "</style>\n",
              "<table border=\"1\" class=\"dataframe\">\n",
              "  <thead>\n",
              "    <tr style=\"text-align: right;\">\n",
              "      <th></th>\n",
              "      <th>label</th>\n",
              "    </tr>\n",
              "  </thead>\n",
              "  <tbody>\n",
              "    <tr>\n",
              "      <th>0</th>\n",
              "      <td>0</td>\n",
              "    </tr>\n",
              "    <tr>\n",
              "      <th>1</th>\n",
              "      <td>0</td>\n",
              "    </tr>\n",
              "    <tr>\n",
              "      <th>2</th>\n",
              "      <td>0</td>\n",
              "    </tr>\n",
              "    <tr>\n",
              "      <th>3</th>\n",
              "      <td>0</td>\n",
              "    </tr>\n",
              "    <tr>\n",
              "      <th>4</th>\n",
              "      <td>0</td>\n",
              "    </tr>\n",
              "    <tr>\n",
              "      <th>...</th>\n",
              "      <td>...</td>\n",
              "    </tr>\n",
              "    <tr>\n",
              "      <th>145</th>\n",
              "      <td>2</td>\n",
              "    </tr>\n",
              "    <tr>\n",
              "      <th>146</th>\n",
              "      <td>2</td>\n",
              "    </tr>\n",
              "    <tr>\n",
              "      <th>147</th>\n",
              "      <td>2</td>\n",
              "    </tr>\n",
              "    <tr>\n",
              "      <th>148</th>\n",
              "      <td>2</td>\n",
              "    </tr>\n",
              "    <tr>\n",
              "      <th>149</th>\n",
              "      <td>2</td>\n",
              "    </tr>\n",
              "  </tbody>\n",
              "</table>\n",
              "<p>149 rows × 1 columns</p>\n",
              "</div>\n",
              "      <button class=\"colab-df-convert\" onclick=\"convertToInteractive('df-7eec3b76-fc3b-41f5-a96b-ebf7043c4e0d')\"\n",
              "              title=\"Convert this dataframe to an interactive table.\"\n",
              "              style=\"display:none;\">\n",
              "        \n",
              "  <svg xmlns=\"http://www.w3.org/2000/svg\" height=\"24px\"viewBox=\"0 0 24 24\"\n",
              "       width=\"24px\">\n",
              "    <path d=\"M0 0h24v24H0V0z\" fill=\"none\"/>\n",
              "    <path d=\"M18.56 5.44l.94 2.06.94-2.06 2.06-.94-2.06-.94-.94-2.06-.94 2.06-2.06.94zm-11 1L8.5 8.5l.94-2.06 2.06-.94-2.06-.94L8.5 2.5l-.94 2.06-2.06.94zm10 10l.94 2.06.94-2.06 2.06-.94-2.06-.94-.94-2.06-.94 2.06-2.06.94z\"/><path d=\"M17.41 7.96l-1.37-1.37c-.4-.4-.92-.59-1.43-.59-.52 0-1.04.2-1.43.59L10.3 9.45l-7.72 7.72c-.78.78-.78 2.05 0 2.83L4 21.41c.39.39.9.59 1.41.59.51 0 1.02-.2 1.41-.59l7.78-7.78 2.81-2.81c.8-.78.8-2.07 0-2.86zM5.41 20L4 18.59l7.72-7.72 1.47 1.35L5.41 20z\"/>\n",
              "  </svg>\n",
              "      </button>\n",
              "      \n",
              "  <style>\n",
              "    .colab-df-container {\n",
              "      display:flex;\n",
              "      flex-wrap:wrap;\n",
              "      gap: 12px;\n",
              "    }\n",
              "\n",
              "    .colab-df-convert {\n",
              "      background-color: #E8F0FE;\n",
              "      border: none;\n",
              "      border-radius: 50%;\n",
              "      cursor: pointer;\n",
              "      display: none;\n",
              "      fill: #1967D2;\n",
              "      height: 32px;\n",
              "      padding: 0 0 0 0;\n",
              "      width: 32px;\n",
              "    }\n",
              "\n",
              "    .colab-df-convert:hover {\n",
              "      background-color: #E2EBFA;\n",
              "      box-shadow: 0px 1px 2px rgba(60, 64, 67, 0.3), 0px 1px 3px 1px rgba(60, 64, 67, 0.15);\n",
              "      fill: #174EA6;\n",
              "    }\n",
              "\n",
              "    [theme=dark] .colab-df-convert {\n",
              "      background-color: #3B4455;\n",
              "      fill: #D2E3FC;\n",
              "    }\n",
              "\n",
              "    [theme=dark] .colab-df-convert:hover {\n",
              "      background-color: #434B5C;\n",
              "      box-shadow: 0px 1px 3px 1px rgba(0, 0, 0, 0.15);\n",
              "      filter: drop-shadow(0px 1px 2px rgba(0, 0, 0, 0.3));\n",
              "      fill: #FFFFFF;\n",
              "    }\n",
              "  </style>\n",
              "\n",
              "      <script>\n",
              "        const buttonEl =\n",
              "          document.querySelector('#df-7eec3b76-fc3b-41f5-a96b-ebf7043c4e0d button.colab-df-convert');\n",
              "        buttonEl.style.display =\n",
              "          google.colab.kernel.accessAllowed ? 'block' : 'none';\n",
              "\n",
              "        async function convertToInteractive(key) {\n",
              "          const element = document.querySelector('#df-7eec3b76-fc3b-41f5-a96b-ebf7043c4e0d');\n",
              "          const dataTable =\n",
              "            await google.colab.kernel.invokeFunction('convertToInteractive',\n",
              "                                                     [key], {});\n",
              "          if (!dataTable) return;\n",
              "\n",
              "          const docLinkHtml = 'Like what you see? Visit the ' +\n",
              "            '<a target=\"_blank\" href=https://colab.research.google.com/notebooks/data_table.ipynb>data table notebook</a>'\n",
              "            + ' to learn more about interactive tables.';\n",
              "          element.innerHTML = '';\n",
              "          dataTable['output_type'] = 'display_data';\n",
              "          await google.colab.output.renderOutput(dataTable, element);\n",
              "          const docLink = document.createElement('div');\n",
              "          docLink.innerHTML = docLinkHtml;\n",
              "          element.appendChild(docLink);\n",
              "        }\n",
              "      </script>\n",
              "    </div>\n",
              "  </div>\n",
              "  "
            ]
          },
          "metadata": {},
          "execution_count": 13
        }
      ],
      "source": [
        "df=iris_df[['label']]\n",
        "df"
      ]
    },
    {
      "cell_type": "code",
      "execution_count": 14,
      "id": "f961302a-8aa5-47bc-8a00-ab992770a5c1",
      "metadata": {
        "id": "f961302a-8aa5-47bc-8a00-ab992770a5c1"
      },
      "outputs": [],
      "source": [
        "X = iris_df.iloc[:,:4] # 독립변수는 라벨을 뺀 나머지 열\n",
        "Y = df\n",
        "\n",
        "# 분할\n",
        "X_train, X_test, Y_train, Y_test = train_test_split(X, Y, random_state = 15, stratify = Y) # random_state = 랜던값. # stratify = 계층화를 통해 한쪽에 편향되지 않게 함."
      ]
    },
    {
      "cell_type": "markdown",
      "id": "55b7f5e2-c413-4b74-a98f-9366af402e4f",
      "metadata": {
        "id": "55b7f5e2-c413-4b74-a98f-9366af402e4f"
      },
      "source": [
        "## 5. 학습시키기"
      ]
    },
    {
      "cell_type": "markdown",
      "id": "66f5d0e1-0cb5-4864-aae1-60597bb68f13",
      "metadata": {
        "id": "66f5d0e1-0cb5-4864-aae1-60597bb68f13"
      },
      "source": [
        "여기서는 sklearn에서 제공해주는 DecisionTreeClasifier를 통해 학습시켜보도록 하겠습니다."
      ]
    },
    {
      "cell_type": "code",
      "execution_count": 15,
      "id": "5c91ad60-7137-4ccc-b66d-4156e24c9ba2",
      "metadata": {
        "colab": {
          "base_uri": "https://localhost:8080/"
        },
        "id": "5c91ad60-7137-4ccc-b66d-4156e24c9ba2",
        "outputId": "4c959d4d-3c35-46ab-9809-1a2f5c3fa846"
      },
      "outputs": [
        {
          "output_type": "execute_result",
          "data": {
            "text/plain": [
              "array([0, 2, 1, 0, 1, 0, 1, 1, 0, 1, 1, 2, 0, 1, 0, 1, 2, 1, 1, 0, 0, 0,\n",
              "       2, 2, 0, 2, 2, 1, 0, 2, 2, 1, 0, 1, 1, 0, 2, 1])"
            ]
          },
          "metadata": {},
          "execution_count": 15
        }
      ],
      "source": [
        "machine = DecisionTreeClassifier(random_state=15)\n",
        "# train data\n",
        "machine.fit(X_train, Y_train)\n",
        "# 예측수행\n",
        "pred = machine.predict(X_test)\n",
        "pred"
      ]
    },
    {
      "cell_type": "markdown",
      "id": "3b6bb9b5-a2a5-4e41-a51b-cac3ae2467c5",
      "metadata": {
        "id": "3b6bb9b5-a2a5-4e41-a51b-cac3ae2467c5"
      },
      "source": [
        "예측까지 수행한 것을 확인할 수 있습니다. 하지만 우리는 그 과정이 궁금하니 과정을 한번 시각화해보겠습니다."
      ]
    },
    {
      "cell_type": "code",
      "execution_count": 16,
      "id": "8e709afa-22b8-4531-9146-2506093ac806",
      "metadata": {
        "colab": {
          "base_uri": "https://localhost:8080/",
          "height": 795
        },
        "id": "8e709afa-22b8-4531-9146-2506093ac806",
        "outputId": "c85cb86c-f447-4f9e-c904-d41d50ff5fb3"
      },
      "outputs": [
        {
          "output_type": "execute_result",
          "data": {
            "text/plain": [
              "<graphviz.files.Source at 0x7f6bc0bdf490>"
            ],
            "image/svg+xml": "<?xml version=\"1.0\" encoding=\"UTF-8\" standalone=\"no\"?>\n<!DOCTYPE svg PUBLIC \"-//W3C//DTD SVG 1.1//EN\"\n \"http://www.w3.org/Graphics/SVG/1.1/DTD/svg11.dtd\">\n<!-- Generated by graphviz version 2.40.1 (20161225.0304)\n -->\n<!-- Title: Tree Pages: 1 -->\n<svg width=\"678pt\" height=\"581pt\"\n viewBox=\"0.00 0.00 678.00 581.00\" xmlns=\"http://www.w3.org/2000/svg\" xmlns:xlink=\"http://www.w3.org/1999/xlink\">\n<g id=\"graph0\" class=\"graph\" transform=\"scale(1 1) rotate(0) translate(4 577)\">\n<title>Tree</title>\n<polygon fill=\"#ffffff\" stroke=\"transparent\" points=\"-4,4 -4,-577 674,-577 674,4 -4,4\"/>\n<!-- 0 -->\n<g id=\"node1\" class=\"node\">\n<title>0</title>\n<path fill=\"none\" stroke=\"#000000\" d=\"M252.5,-573C252.5,-573 136.5,-573 136.5,-573 130.5,-573 124.5,-567 124.5,-561 124.5,-561 124.5,-517 124.5,-517 124.5,-511 130.5,-505 136.5,-505 136.5,-505 252.5,-505 252.5,-505 258.5,-505 264.5,-511 264.5,-517 264.5,-517 264.5,-561 264.5,-561 264.5,-567 258.5,-573 252.5,-573\"/>\n<text text-anchor=\"middle\" x=\"194.5\" y=\"-557.8\" font-family=\"Helvetica,sans-Serif\" font-size=\"14.00\" fill=\"#000000\">X[2] &lt;= 2.6</text>\n<text text-anchor=\"middle\" x=\"194.5\" y=\"-542.8\" font-family=\"Helvetica,sans-Serif\" font-size=\"14.00\" fill=\"#000000\">gini = 0.667</text>\n<text text-anchor=\"middle\" x=\"194.5\" y=\"-527.8\" font-family=\"Helvetica,sans-Serif\" font-size=\"14.00\" fill=\"#000000\">samples = 111</text>\n<text text-anchor=\"middle\" x=\"194.5\" y=\"-512.8\" font-family=\"Helvetica,sans-Serif\" font-size=\"14.00\" fill=\"#000000\">value = [37, 37, 37]</text>\n</g>\n<!-- 1 -->\n<g id=\"node2\" class=\"node\">\n<title>1</title>\n<path fill=\"none\" stroke=\"#000000\" d=\"M172,-461.5C172,-461.5 73,-461.5 73,-461.5 67,-461.5 61,-455.5 61,-449.5 61,-449.5 61,-420.5 61,-420.5 61,-414.5 67,-408.5 73,-408.5 73,-408.5 172,-408.5 172,-408.5 178,-408.5 184,-414.5 184,-420.5 184,-420.5 184,-449.5 184,-449.5 184,-455.5 178,-461.5 172,-461.5\"/>\n<text text-anchor=\"middle\" x=\"122.5\" y=\"-446.3\" font-family=\"Helvetica,sans-Serif\" font-size=\"14.00\" fill=\"#000000\">gini = 0.0</text>\n<text text-anchor=\"middle\" x=\"122.5\" y=\"-431.3\" font-family=\"Helvetica,sans-Serif\" font-size=\"14.00\" fill=\"#000000\">samples = 37</text>\n<text text-anchor=\"middle\" x=\"122.5\" y=\"-416.3\" font-family=\"Helvetica,sans-Serif\" font-size=\"14.00\" fill=\"#000000\">value = [37, 0, 0]</text>\n</g>\n<!-- 0&#45;&gt;1 -->\n<g id=\"edge1\" class=\"edge\">\n<title>0&#45;&gt;1</title>\n<path fill=\"none\" stroke=\"#000000\" d=\"M170.9245,-504.9465C163.1463,-493.7113 154.4861,-481.2021 146.6645,-469.9043\"/>\n<polygon fill=\"#000000\" stroke=\"#000000\" points=\"149.4452,-467.7719 140.8753,-461.5422 143.6898,-471.7564 149.4452,-467.7719\"/>\n<text text-anchor=\"middle\" x=\"136.4032\" y=\"-482.4389\" font-family=\"Helvetica,sans-Serif\" font-size=\"14.00\" fill=\"#000000\">True</text>\n</g>\n<!-- 2 -->\n<g id=\"node3\" class=\"node\">\n<title>2</title>\n<path fill=\"none\" stroke=\"#000000\" d=\"M321,-469C321,-469 214,-469 214,-469 208,-469 202,-463 202,-457 202,-457 202,-413 202,-413 202,-407 208,-401 214,-401 214,-401 321,-401 321,-401 327,-401 333,-407 333,-413 333,-413 333,-457 333,-457 333,-463 327,-469 321,-469\"/>\n<text text-anchor=\"middle\" x=\"267.5\" y=\"-453.8\" font-family=\"Helvetica,sans-Serif\" font-size=\"14.00\" fill=\"#000000\">X[3] &lt;= 1.65</text>\n<text text-anchor=\"middle\" x=\"267.5\" y=\"-438.8\" font-family=\"Helvetica,sans-Serif\" font-size=\"14.00\" fill=\"#000000\">gini = 0.5</text>\n<text text-anchor=\"middle\" x=\"267.5\" y=\"-423.8\" font-family=\"Helvetica,sans-Serif\" font-size=\"14.00\" fill=\"#000000\">samples = 74</text>\n<text text-anchor=\"middle\" x=\"267.5\" y=\"-408.8\" font-family=\"Helvetica,sans-Serif\" font-size=\"14.00\" fill=\"#000000\">value = [0, 37, 37]</text>\n</g>\n<!-- 0&#45;&gt;2 -->\n<g id=\"edge2\" class=\"edge\">\n<title>0&#45;&gt;2</title>\n<path fill=\"none\" stroke=\"#000000\" d=\"M218.4029,-504.9465C224.5791,-496.1475 231.3038,-486.5672 237.739,-477.3993\"/>\n<polygon fill=\"#000000\" stroke=\"#000000\" points=\"240.6629,-479.3258 243.5434,-469.13 234.9334,-475.3041 240.6629,-479.3258\"/>\n<text text-anchor=\"middle\" x=\"247.8563\" y=\"-490.0552\" font-family=\"Helvetica,sans-Serif\" font-size=\"14.00\" fill=\"#000000\">False</text>\n</g>\n<!-- 3 -->\n<g id=\"node4\" class=\"node\">\n<title>3</title>\n<path fill=\"none\" stroke=\"#000000\" d=\"M246,-365C246,-365 147,-365 147,-365 141,-365 135,-359 135,-353 135,-353 135,-309 135,-309 135,-303 141,-297 147,-297 147,-297 246,-297 246,-297 252,-297 258,-303 258,-309 258,-309 258,-353 258,-353 258,-359 252,-365 246,-365\"/>\n<text text-anchor=\"middle\" x=\"196.5\" y=\"-349.8\" font-family=\"Helvetica,sans-Serif\" font-size=\"14.00\" fill=\"#000000\">X[2] &lt;= 5.35</text>\n<text text-anchor=\"middle\" x=\"196.5\" y=\"-334.8\" font-family=\"Helvetica,sans-Serif\" font-size=\"14.00\" fill=\"#000000\">gini = 0.054</text>\n<text text-anchor=\"middle\" x=\"196.5\" y=\"-319.8\" font-family=\"Helvetica,sans-Serif\" font-size=\"14.00\" fill=\"#000000\">samples = 36</text>\n<text text-anchor=\"middle\" x=\"196.5\" y=\"-304.8\" font-family=\"Helvetica,sans-Serif\" font-size=\"14.00\" fill=\"#000000\">value = [0, 35, 1]</text>\n</g>\n<!-- 2&#45;&gt;3 -->\n<g id=\"edge3\" class=\"edge\">\n<title>2&#45;&gt;3</title>\n<path fill=\"none\" stroke=\"#000000\" d=\"M244.2519,-400.9465C238.245,-392.1475 231.7045,-382.5672 225.4457,-373.3993\"/>\n<polygon fill=\"#000000\" stroke=\"#000000\" points=\"228.3293,-371.4155 219.8003,-365.13 222.548,-375.3623 228.3293,-371.4155\"/>\n</g>\n<!-- 6 -->\n<g id=\"node7\" class=\"node\">\n<title>6</title>\n<path fill=\"none\" stroke=\"#000000\" d=\"M387,-365C387,-365 288,-365 288,-365 282,-365 276,-359 276,-353 276,-353 276,-309 276,-309 276,-303 282,-297 288,-297 288,-297 387,-297 387,-297 393,-297 399,-303 399,-309 399,-309 399,-353 399,-353 399,-359 393,-365 387,-365\"/>\n<text text-anchor=\"middle\" x=\"337.5\" y=\"-349.8\" font-family=\"Helvetica,sans-Serif\" font-size=\"14.00\" fill=\"#000000\">X[3] &lt;= 1.75</text>\n<text text-anchor=\"middle\" x=\"337.5\" y=\"-334.8\" font-family=\"Helvetica,sans-Serif\" font-size=\"14.00\" fill=\"#000000\">gini = 0.1</text>\n<text text-anchor=\"middle\" x=\"337.5\" y=\"-319.8\" font-family=\"Helvetica,sans-Serif\" font-size=\"14.00\" fill=\"#000000\">samples = 38</text>\n<text text-anchor=\"middle\" x=\"337.5\" y=\"-304.8\" font-family=\"Helvetica,sans-Serif\" font-size=\"14.00\" fill=\"#000000\">value = [0, 2, 36]</text>\n</g>\n<!-- 2&#45;&gt;6 -->\n<g id=\"edge6\" class=\"edge\">\n<title>2&#45;&gt;6</title>\n<path fill=\"none\" stroke=\"#000000\" d=\"M290.4206,-400.9465C296.2826,-392.2373 302.6598,-382.7626 308.773,-373.6801\"/>\n<polygon fill=\"#000000\" stroke=\"#000000\" points=\"311.8476,-375.3802 314.5279,-365.13 306.0405,-371.4716 311.8476,-375.3802\"/>\n</g>\n<!-- 4 -->\n<g id=\"node5\" class=\"node\">\n<title>4</title>\n<path fill=\"none\" stroke=\"#000000\" d=\"M111,-253.5C111,-253.5 12,-253.5 12,-253.5 6,-253.5 0,-247.5 0,-241.5 0,-241.5 0,-212.5 0,-212.5 0,-206.5 6,-200.5 12,-200.5 12,-200.5 111,-200.5 111,-200.5 117,-200.5 123,-206.5 123,-212.5 123,-212.5 123,-241.5 123,-241.5 123,-247.5 117,-253.5 111,-253.5\"/>\n<text text-anchor=\"middle\" x=\"61.5\" y=\"-238.3\" font-family=\"Helvetica,sans-Serif\" font-size=\"14.00\" fill=\"#000000\">gini = 0.0</text>\n<text text-anchor=\"middle\" x=\"61.5\" y=\"-223.3\" font-family=\"Helvetica,sans-Serif\" font-size=\"14.00\" fill=\"#000000\">samples = 35</text>\n<text text-anchor=\"middle\" x=\"61.5\" y=\"-208.3\" font-family=\"Helvetica,sans-Serif\" font-size=\"14.00\" fill=\"#000000\">value = [0, 35, 0]</text>\n</g>\n<!-- 3&#45;&gt;4 -->\n<g id=\"edge4\" class=\"edge\">\n<title>3&#45;&gt;4</title>\n<path fill=\"none\" stroke=\"#000000\" d=\"M152.296,-296.9465C136.8539,-285.0504 119.5578,-271.726 104.2375,-259.9237\"/>\n<polygon fill=\"#000000\" stroke=\"#000000\" points=\"106.0117,-256.8723 95.9538,-253.5422 101.7397,-262.4176 106.0117,-256.8723\"/>\n</g>\n<!-- 5 -->\n<g id=\"node6\" class=\"node\">\n<title>5</title>\n<path fill=\"none\" stroke=\"#000000\" d=\"M244,-253.5C244,-253.5 153,-253.5 153,-253.5 147,-253.5 141,-247.5 141,-241.5 141,-241.5 141,-212.5 141,-212.5 141,-206.5 147,-200.5 153,-200.5 153,-200.5 244,-200.5 244,-200.5 250,-200.5 256,-206.5 256,-212.5 256,-212.5 256,-241.5 256,-241.5 256,-247.5 250,-253.5 244,-253.5\"/>\n<text text-anchor=\"middle\" x=\"198.5\" y=\"-238.3\" font-family=\"Helvetica,sans-Serif\" font-size=\"14.00\" fill=\"#000000\">gini = 0.0</text>\n<text text-anchor=\"middle\" x=\"198.5\" y=\"-223.3\" font-family=\"Helvetica,sans-Serif\" font-size=\"14.00\" fill=\"#000000\">samples = 1</text>\n<text text-anchor=\"middle\" x=\"198.5\" y=\"-208.3\" font-family=\"Helvetica,sans-Serif\" font-size=\"14.00\" fill=\"#000000\">value = [0, 0, 1]</text>\n</g>\n<!-- 3&#45;&gt;5 -->\n<g id=\"edge5\" class=\"edge\">\n<title>3&#45;&gt;5</title>\n<path fill=\"none\" stroke=\"#000000\" d=\"M197.1549,-296.9465C197.3603,-286.2621 197.588,-274.4254 197.7966,-263.5742\"/>\n<polygon fill=\"#000000\" stroke=\"#000000\" points=\"201.2966,-263.6076 197.9896,-253.5422 194.2979,-263.473 201.2966,-263.6076\"/>\n</g>\n<!-- 7 -->\n<g id=\"node8\" class=\"node\">\n<title>7</title>\n<path fill=\"none\" stroke=\"#000000\" d=\"M381,-261C381,-261 290,-261 290,-261 284,-261 278,-255 278,-249 278,-249 278,-205 278,-205 278,-199 284,-193 290,-193 290,-193 381,-193 381,-193 387,-193 393,-199 393,-205 393,-205 393,-249 393,-249 393,-255 387,-261 381,-261\"/>\n<text text-anchor=\"middle\" x=\"335.5\" y=\"-245.8\" font-family=\"Helvetica,sans-Serif\" font-size=\"14.00\" fill=\"#000000\">X[2] &lt;= 4.75</text>\n<text text-anchor=\"middle\" x=\"335.5\" y=\"-230.8\" font-family=\"Helvetica,sans-Serif\" font-size=\"14.00\" fill=\"#000000\">gini = 0.5</text>\n<text text-anchor=\"middle\" x=\"335.5\" y=\"-215.8\" font-family=\"Helvetica,sans-Serif\" font-size=\"14.00\" fill=\"#000000\">samples = 2</text>\n<text text-anchor=\"middle\" x=\"335.5\" y=\"-200.8\" font-family=\"Helvetica,sans-Serif\" font-size=\"14.00\" fill=\"#000000\">value = [0, 1, 1]</text>\n</g>\n<!-- 6&#45;&gt;7 -->\n<g id=\"edge7\" class=\"edge\">\n<title>6&#45;&gt;7</title>\n<path fill=\"none\" stroke=\"#000000\" d=\"M336.8451,-296.9465C336.688,-288.776 336.5179,-279.9318 336.3533,-271.3697\"/>\n<polygon fill=\"#000000\" stroke=\"#000000\" points=\"339.8481,-271.0608 336.1563,-261.13 332.8494,-271.1955 339.8481,-271.0608\"/>\n</g>\n<!-- 10 -->\n<g id=\"node11\" class=\"node\">\n<title>10</title>\n<path fill=\"none\" stroke=\"#000000\" d=\"M522,-261C522,-261 423,-261 423,-261 417,-261 411,-255 411,-249 411,-249 411,-205 411,-205 411,-199 417,-193 423,-193 423,-193 522,-193 522,-193 528,-193 534,-199 534,-205 534,-205 534,-249 534,-249 534,-255 528,-261 522,-261\"/>\n<text text-anchor=\"middle\" x=\"472.5\" y=\"-245.8\" font-family=\"Helvetica,sans-Serif\" font-size=\"14.00\" fill=\"#000000\">X[2] &lt;= 4.85</text>\n<text text-anchor=\"middle\" x=\"472.5\" y=\"-230.8\" font-family=\"Helvetica,sans-Serif\" font-size=\"14.00\" fill=\"#000000\">gini = 0.054</text>\n<text text-anchor=\"middle\" x=\"472.5\" y=\"-215.8\" font-family=\"Helvetica,sans-Serif\" font-size=\"14.00\" fill=\"#000000\">samples = 36</text>\n<text text-anchor=\"middle\" x=\"472.5\" y=\"-200.8\" font-family=\"Helvetica,sans-Serif\" font-size=\"14.00\" fill=\"#000000\">value = [0, 1, 35]</text>\n</g>\n<!-- 6&#45;&gt;10 -->\n<g id=\"edge10\" class=\"edge\">\n<title>6&#45;&gt;10</title>\n<path fill=\"none\" stroke=\"#000000\" d=\"M381.704,-296.9465C393.9416,-287.519 407.3436,-277.1946 420.0038,-267.4415\"/>\n<polygon fill=\"#000000\" stroke=\"#000000\" points=\"422.4107,-270.0055 428.1966,-261.13 418.1388,-264.4601 422.4107,-270.0055\"/>\n</g>\n<!-- 8 -->\n<g id=\"node9\" class=\"node\">\n<title>8</title>\n<path fill=\"none\" stroke=\"#000000\" d=\"M249,-149.5C249,-149.5 158,-149.5 158,-149.5 152,-149.5 146,-143.5 146,-137.5 146,-137.5 146,-108.5 146,-108.5 146,-102.5 152,-96.5 158,-96.5 158,-96.5 249,-96.5 249,-96.5 255,-96.5 261,-102.5 261,-108.5 261,-108.5 261,-137.5 261,-137.5 261,-143.5 255,-149.5 249,-149.5\"/>\n<text text-anchor=\"middle\" x=\"203.5\" y=\"-134.3\" font-family=\"Helvetica,sans-Serif\" font-size=\"14.00\" fill=\"#000000\">gini = 0.0</text>\n<text text-anchor=\"middle\" x=\"203.5\" y=\"-119.3\" font-family=\"Helvetica,sans-Serif\" font-size=\"14.00\" fill=\"#000000\">samples = 1</text>\n<text text-anchor=\"middle\" x=\"203.5\" y=\"-104.3\" font-family=\"Helvetica,sans-Serif\" font-size=\"14.00\" fill=\"#000000\">value = [0, 0, 1]</text>\n</g>\n<!-- 7&#45;&gt;8 -->\n<g id=\"edge8\" class=\"edge\">\n<title>7&#45;&gt;8</title>\n<path fill=\"none\" stroke=\"#000000\" d=\"M292.2783,-192.9465C277.1794,-181.0504 260.2676,-167.726 245.2878,-155.9237\"/>\n<polygon fill=\"#000000\" stroke=\"#000000\" points=\"247.2091,-152.9817 237.1881,-149.5422 242.877,-158.4802 247.2091,-152.9817\"/>\n</g>\n<!-- 9 -->\n<g id=\"node10\" class=\"node\">\n<title>9</title>\n<path fill=\"none\" stroke=\"#000000\" d=\"M382,-149.5C382,-149.5 291,-149.5 291,-149.5 285,-149.5 279,-143.5 279,-137.5 279,-137.5 279,-108.5 279,-108.5 279,-102.5 285,-96.5 291,-96.5 291,-96.5 382,-96.5 382,-96.5 388,-96.5 394,-102.5 394,-108.5 394,-108.5 394,-137.5 394,-137.5 394,-143.5 388,-149.5 382,-149.5\"/>\n<text text-anchor=\"middle\" x=\"336.5\" y=\"-134.3\" font-family=\"Helvetica,sans-Serif\" font-size=\"14.00\" fill=\"#000000\">gini = 0.0</text>\n<text text-anchor=\"middle\" x=\"336.5\" y=\"-119.3\" font-family=\"Helvetica,sans-Serif\" font-size=\"14.00\" fill=\"#000000\">samples = 1</text>\n<text text-anchor=\"middle\" x=\"336.5\" y=\"-104.3\" font-family=\"Helvetica,sans-Serif\" font-size=\"14.00\" fill=\"#000000\">value = [0, 1, 0]</text>\n</g>\n<!-- 7&#45;&gt;9 -->\n<g id=\"edge9\" class=\"edge\">\n<title>7&#45;&gt;9</title>\n<path fill=\"none\" stroke=\"#000000\" d=\"M335.8274,-192.9465C335.9302,-182.2621 336.044,-170.4254 336.1483,-159.5742\"/>\n<polygon fill=\"#000000\" stroke=\"#000000\" points=\"339.6484,-159.5754 336.2448,-149.5422 332.6487,-159.508 339.6484,-159.5754\"/>\n</g>\n<!-- 11 -->\n<g id=\"node12\" class=\"node\">\n<title>11</title>\n<path fill=\"none\" stroke=\"#000000\" d=\"M517,-157C517,-157 426,-157 426,-157 420,-157 414,-151 414,-145 414,-145 414,-101 414,-101 414,-95 420,-89 426,-89 426,-89 517,-89 517,-89 523,-89 529,-95 529,-101 529,-101 529,-145 529,-145 529,-151 523,-157 517,-157\"/>\n<text text-anchor=\"middle\" x=\"471.5\" y=\"-141.8\" font-family=\"Helvetica,sans-Serif\" font-size=\"14.00\" fill=\"#000000\">X[1] &lt;= 3.1</text>\n<text text-anchor=\"middle\" x=\"471.5\" y=\"-126.8\" font-family=\"Helvetica,sans-Serif\" font-size=\"14.00\" fill=\"#000000\">gini = 0.444</text>\n<text text-anchor=\"middle\" x=\"471.5\" y=\"-111.8\" font-family=\"Helvetica,sans-Serif\" font-size=\"14.00\" fill=\"#000000\">samples = 3</text>\n<text text-anchor=\"middle\" x=\"471.5\" y=\"-96.8\" font-family=\"Helvetica,sans-Serif\" font-size=\"14.00\" fill=\"#000000\">value = [0, 1, 2]</text>\n</g>\n<!-- 10&#45;&gt;11 -->\n<g id=\"edge11\" class=\"edge\">\n<title>10&#45;&gt;11</title>\n<path fill=\"none\" stroke=\"#000000\" d=\"M472.1726,-192.9465C472.094,-184.776 472.009,-175.9318 471.9266,-167.3697\"/>\n<polygon fill=\"#000000\" stroke=\"#000000\" points=\"475.4243,-167.0958 471.8282,-157.13 468.4246,-167.1632 475.4243,-167.0958\"/>\n</g>\n<!-- 14 -->\n<g id=\"node15\" class=\"node\">\n<title>14</title>\n<path fill=\"none\" stroke=\"#000000\" d=\"M658,-149.5C658,-149.5 559,-149.5 559,-149.5 553,-149.5 547,-143.5 547,-137.5 547,-137.5 547,-108.5 547,-108.5 547,-102.5 553,-96.5 559,-96.5 559,-96.5 658,-96.5 658,-96.5 664,-96.5 670,-102.5 670,-108.5 670,-108.5 670,-137.5 670,-137.5 670,-143.5 664,-149.5 658,-149.5\"/>\n<text text-anchor=\"middle\" x=\"608.5\" y=\"-134.3\" font-family=\"Helvetica,sans-Serif\" font-size=\"14.00\" fill=\"#000000\">gini = 0.0</text>\n<text text-anchor=\"middle\" x=\"608.5\" y=\"-119.3\" font-family=\"Helvetica,sans-Serif\" font-size=\"14.00\" fill=\"#000000\">samples = 33</text>\n<text text-anchor=\"middle\" x=\"608.5\" y=\"-104.3\" font-family=\"Helvetica,sans-Serif\" font-size=\"14.00\" fill=\"#000000\">value = [0, 0, 33]</text>\n</g>\n<!-- 10&#45;&gt;14 -->\n<g id=\"edge14\" class=\"edge\">\n<title>10&#45;&gt;14</title>\n<path fill=\"none\" stroke=\"#000000\" d=\"M517.0315,-192.9465C532.5879,-181.0504 550.0121,-167.726 565.4459,-155.9237\"/>\n<polygon fill=\"#000000\" stroke=\"#000000\" points=\"567.9735,-158.397 573.791,-149.5422 563.7213,-152.8364 567.9735,-158.397\"/>\n</g>\n<!-- 12 -->\n<g id=\"node13\" class=\"node\">\n<title>12</title>\n<path fill=\"none\" stroke=\"#000000\" d=\"M450,-53C450,-53 359,-53 359,-53 353,-53 347,-47 347,-41 347,-41 347,-12 347,-12 347,-6 353,0 359,0 359,0 450,0 450,0 456,0 462,-6 462,-12 462,-12 462,-41 462,-41 462,-47 456,-53 450,-53\"/>\n<text text-anchor=\"middle\" x=\"404.5\" y=\"-37.8\" font-family=\"Helvetica,sans-Serif\" font-size=\"14.00\" fill=\"#000000\">gini = 0.0</text>\n<text text-anchor=\"middle\" x=\"404.5\" y=\"-22.8\" font-family=\"Helvetica,sans-Serif\" font-size=\"14.00\" fill=\"#000000\">samples = 2</text>\n<text text-anchor=\"middle\" x=\"404.5\" y=\"-7.8\" font-family=\"Helvetica,sans-Serif\" font-size=\"14.00\" fill=\"#000000\">value = [0, 0, 2]</text>\n</g>\n<!-- 11&#45;&gt;12 -->\n<g id=\"edge12\" class=\"edge\">\n<title>11&#45;&gt;12</title>\n<path fill=\"none\" stroke=\"#000000\" d=\"M447.8783,-88.9777C441.7113,-80.0954 435.0539,-70.5067 428.8499,-61.5711\"/>\n<polygon fill=\"#000000\" stroke=\"#000000\" points=\"431.6497,-59.4666 423.0715,-53.2485 425.8997,-63.4589 431.6497,-59.4666\"/>\n</g>\n<!-- 13 -->\n<g id=\"node14\" class=\"node\">\n<title>13</title>\n<path fill=\"none\" stroke=\"#000000\" d=\"M583,-53C583,-53 492,-53 492,-53 486,-53 480,-47 480,-41 480,-41 480,-12 480,-12 480,-6 486,0 492,0 492,0 583,0 583,0 589,0 595,-6 595,-12 595,-12 595,-41 595,-41 595,-47 589,-53 583,-53\"/>\n<text text-anchor=\"middle\" x=\"537.5\" y=\"-37.8\" font-family=\"Helvetica,sans-Serif\" font-size=\"14.00\" fill=\"#000000\">gini = 0.0</text>\n<text text-anchor=\"middle\" x=\"537.5\" y=\"-22.8\" font-family=\"Helvetica,sans-Serif\" font-size=\"14.00\" fill=\"#000000\">samples = 1</text>\n<text text-anchor=\"middle\" x=\"537.5\" y=\"-7.8\" font-family=\"Helvetica,sans-Serif\" font-size=\"14.00\" fill=\"#000000\">value = [0, 1, 0]</text>\n</g>\n<!-- 11&#45;&gt;13 -->\n<g id=\"edge13\" class=\"edge\">\n<title>11&#45;&gt;13</title>\n<path fill=\"none\" stroke=\"#000000\" d=\"M494.7691,-88.9777C500.844,-80.0954 507.4021,-70.5067 513.5135,-61.5711\"/>\n<polygon fill=\"#000000\" stroke=\"#000000\" points=\"516.4493,-63.4785 519.2057,-53.2485 510.6714,-59.5267 516.4493,-63.4785\"/>\n</g>\n</g>\n</svg>\n"
          },
          "metadata": {},
          "execution_count": 16
        }
      ],
      "source": [
        "from sklearn.tree import export_graphviz\n",
        "\n",
        "export_graphviz(\n",
        "        machine,\n",
        "        out_file=\"iris_tree.dot\",\n",
        "        rounded=True,\n",
        "    )\n",
        "\n",
        "import graphviz\n",
        "\n",
        "with open(\"iris_tree.dot\") as f:\n",
        "    dot_graph = f.read()\n",
        "dot = graphviz.Source(dot_graph)\n",
        "dot.format = 'png'\n",
        "dot.render(filename='iris_tree', directory='남구청/decision_tree', cleanup=True)\n",
        "dot"
      ]
    },
    {
      "cell_type": "markdown",
      "source": [
        "의사결정나무가 이쁘게 그려진 것을 확인할 수 있습니다. 먼저 제일 위의 칸을 확인해보면 X[2], 즉 petal length 2.6을 기준으로 분류되었네요"
      ],
      "metadata": {
        "id": "g5uZqjZynMey"
      },
      "id": "g5uZqjZynMey"
    },
    {
      "cell_type": "markdown",
      "source": [
        "## 6. 평가하기 "
      ],
      "metadata": {
        "id": "Luk3FhftnlMb"
      },
      "id": "Luk3FhftnlMb"
    },
    {
      "cell_type": "markdown",
      "source": [
        "분류모델을 만들었으니 평가도 해보아야겠죠? score()매서드를 활용해서 해보겠습니다."
      ],
      "metadata": {
        "id": "sdHPPiOpnsrR"
      },
      "id": "sdHPPiOpnsrR"
    },
    {
      "cell_type": "code",
      "source": [
        "score = machine.score(X_test, Y_test)\n",
        "score"
      ],
      "metadata": {
        "colab": {
          "base_uri": "https://localhost:8080/"
        },
        "id": "9e5GzbH7nq5m",
        "outputId": "68aa9480-298c-4af6-8248-319513564a21"
      },
      "id": "9e5GzbH7nq5m",
      "execution_count": 17,
      "outputs": [
        {
          "output_type": "execute_result",
          "data": {
            "text/plain": [
              "0.9473684210526315"
            ]
          },
          "metadata": {},
          "execution_count": 17
        }
      ]
    },
    {
      "cell_type": "markdown",
      "source": [
        "평균 정확도가 94프로로 꽤 성능이 좋네용"
      ],
      "metadata": {
        "id": "cQwi0sxTnlmp"
      },
      "id": "cQwi0sxTnlmp"
    },
    {
      "cell_type": "markdown",
      "source": [
        "## 7. 예측하기\n",
        "\n",
        "DecisionTreeClssifier에는 예측을 해주는 predict() 매서드 또한 있습니다.이번에는 predict() 매서드를 사용해서 임의의 데이터가 어떤 품종인지 예측해보죠."
      ],
      "metadata": {
        "id": "7sFKlaz2onIC"
      },
      "id": "7sFKlaz2onIC"
    },
    {
      "cell_type": "code",
      "execution_count": 19,
      "id": "57daccc9-a129-487d-b397-8e551bd3703e",
      "metadata": {
        "colab": {
          "base_uri": "https://localhost:8080/"
        },
        "id": "57daccc9-a129-487d-b397-8e551bd3703e",
        "outputId": "025cbad3-6709-47bb-a9b2-75fc03c5a18d"
      },
      "outputs": [
        {
          "output_type": "stream",
          "name": "stderr",
          "text": [
            "/usr/local/lib/python3.7/dist-packages/sklearn/base.py:451: UserWarning: X does not have valid feature names, but DecisionTreeClassifier was fitted with feature names\n",
            "  \"X does not have valid feature names, but\"\n"
          ]
        },
        {
          "output_type": "execute_result",
          "data": {
            "text/plain": [
              "array([0])"
            ]
          },
          "metadata": {},
          "execution_count": 19
        }
      ],
      "source": [
        "exp = np.array([[5.2, 4.2, 1,0.5]])\n",
        "Y_pred = machine.predict(exp)\n",
        "Y_pred"
      ]
    },
    {
      "cell_type": "code",
      "source": [
        "!jupyter nbconvert --to markdown \"//content/남구청\""
      ],
      "metadata": {
        "colab": {
          "base_uri": "https://localhost:8080/"
        },
        "id": "c_Qc4MQ8pxVN",
        "outputId": "89fb2c41-1512-49ba-f709-e1f29ae8c2b9"
      },
      "id": "c_Qc4MQ8pxVN",
      "execution_count": 25,
      "outputs": [
        {
          "output_type": "stream",
          "name": "stdout",
          "text": [
            "[NbConvertApp] Converting notebook //content/남구청 to markdown\n",
            "Traceback (most recent call last):\n",
            "  File \"/usr/local/bin/jupyter-nbconvert\", line 8, in <module>\n",
            "    sys.exit(main())\n",
            "  File \"/usr/local/lib/python3.7/dist-packages/jupyter_core/application.py\", line 269, in launch_instance\n",
            "    return super().launch_instance(argv=argv, **kwargs)\n",
            "  File \"/usr/local/lib/python3.7/dist-packages/traitlets/config/application.py\", line 846, in launch_instance\n",
            "    app.start()\n",
            "  File \"/usr/local/lib/python3.7/dist-packages/nbconvert/nbconvertapp.py\", line 340, in start\n",
            "    self.convert_notebooks()\n",
            "  File \"/usr/local/lib/python3.7/dist-packages/nbconvert/nbconvertapp.py\", line 510, in convert_notebooks\n",
            "    self.convert_single_notebook(notebook_filename)\n",
            "  File \"/usr/local/lib/python3.7/dist-packages/nbconvert/nbconvertapp.py\", line 481, in convert_single_notebook\n",
            "    output, resources = self.export_single_notebook(notebook_filename, resources, input_buffer=input_buffer)\n",
            "  File \"/usr/local/lib/python3.7/dist-packages/nbconvert/nbconvertapp.py\", line 410, in export_single_notebook\n",
            "    output, resources = self.exporter.from_filename(notebook_filename, resources=resources)\n",
            "  File \"/usr/local/lib/python3.7/dist-packages/nbconvert/exporters/exporter.py\", line 178, in from_filename\n",
            "    with io.open(filename, encoding='utf-8') as f:\n",
            "IsADirectoryError: [Errno 21] Is a directory: '//content/남구청'\n"
          ]
        }
      ]
    },
    {
      "cell_type": "code",
      "source": [
        "from google.colab import drive\n",
        "drive.mount('/content/drive')"
      ],
      "metadata": {
        "colab": {
          "base_uri": "https://localhost:8080/"
        },
        "id": "-lGJFKuNqXMS",
        "outputId": "62bf1847-4d06-4078-f9fc-ca52a85cfc78"
      },
      "id": "-lGJFKuNqXMS",
      "execution_count": 26,
      "outputs": [
        {
          "output_type": "stream",
          "name": "stdout",
          "text": [
            "Drive already mounted at /content/drive; to attempt to forcibly remount, call drive.mount(\"/content/drive\", force_remount=True).\n"
          ]
        }
      ]
    },
    {
      "cell_type": "code",
      "source": [],
      "metadata": {
        "id": "muE-a7-Tp_kw"
      },
      "id": "muE-a7-Tp_kw",
      "execution_count": null,
      "outputs": []
    }
  ],
  "metadata": {
    "kernelspec": {
      "display_name": "Python 3 (ipykernel)",
      "language": "python",
      "name": "python3"
    },
    "language_info": {
      "codemirror_mode": {
        "name": "ipython",
        "version": 3
      },
      "file_extension": ".py",
      "mimetype": "text/x-python",
      "name": "python",
      "nbconvert_exporter": "python",
      "pygments_lexer": "ipython3",
      "version": "3.9.12"
    },
    "colab": {
      "provenance": [],
      "include_colab_link": true
    },
    "accelerator": "GPU",
    "gpuClass": "standard"
  },
  "nbformat": 4,
  "nbformat_minor": 5
}